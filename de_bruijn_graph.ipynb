{
 "cells": [
  {
   "cell_type": "code",
   "execution_count": 330,
   "metadata": {},
   "outputs": [],
   "source": [
    "def import_edges(filename):\n",
    "    with open(filename, 'r') as file:\n",
    "        graph = dict((line.strip().split(' -> ') for line in file))\n",
    "        for key in graph:\n",
    "            graph[key] = graph[key].split(',')\n",
    "        \n",
    "    return(graph)"
   ]
  },
  {
   "cell_type": "code",
   "execution_count": 334,
   "metadata": {},
   "outputs": [],
   "source": [
    "edges_list = import_edges('sample.txt')"
   ]
  },
  {
   "cell_type": "code",
   "execution_count": 335,
   "metadata": {},
   "outputs": [
    {
     "data": {
      "text/plain": [
       "{'0': ['3'],\n",
       " '1': ['0'],\n",
       " '2': ['1', '6'],\n",
       " '3': ['2'],\n",
       " '4': ['2'],\n",
       " '5': ['4'],\n",
       " '6': ['5', '8'],\n",
       " '7': ['9'],\n",
       " '8': ['7'],\n",
       " '9': ['6']}"
      ]
     },
     "execution_count": 335,
     "metadata": {},
     "output_type": "execute_result"
    }
   ],
   "source": [
    "edges_list"
   ]
  },
  {
   "cell_type": "code",
   "execution_count": 337,
   "metadata": {},
   "outputs": [],
   "source": [
    "class Stack:\n",
    "     def __init__(self):\n",
    "         self.items = []\n",
    "\n",
    "     def isEmpty(self):\n",
    "         return self.items == []\n",
    "\n",
    "     def push(self, item):\n",
    "         self.items.append(item)\n",
    "\n",
    "     def pop(self):\n",
    "         return self.items.pop()\n",
    "\n",
    "     def peek(self):\n",
    "         return self.items[len(self.items)-1]\n",
    "\n",
    "     def size(self):\n",
    "         return len(self.items)"
   ]
  },
  {
   "cell_type": "code",
   "execution_count": 338,
   "metadata": {},
   "outputs": [],
   "source": [
    "c = Stack()"
   ]
  },
  {
   "cell_type": "code",
   "execution_count": 339,
   "metadata": {},
   "outputs": [],
   "source": [
    "def dictionary_update(dictionary, key, index):\n",
    "    del dictionary[key][index]\n",
    "    "
   ]
  },
  {
   "cell_type": "code",
   "execution_count": 340,
   "metadata": {},
   "outputs": [],
   "source": [
    "for i in nodes1:\n",
    "    c.push(i)\n",
    "    if i in dictionary:\n",
    "        j = 0\n",
    "        if (len(dictionary) == 0):\n",
    "            pass\n",
    "        while (j < len(dictionary[i])):\n",
    "            c_next = dictionary[i][0]\n",
    "            c.push(c_next)\n",
    "            dictionary_update(dictionary, i, 0)\n",
    "            j += 1"
   ]
  },
  {
   "cell_type": "code",
   "execution_count": 341,
   "metadata": {},
   "outputs": [
    {
     "data": {
      "text/plain": [
       "9"
      ]
     },
     "execution_count": 341,
     "metadata": {},
     "output_type": "execute_result"
    }
   ],
   "source": [
    "c.size()"
   ]
  },
  {
   "cell_type": "code",
   "execution_count": 342,
   "metadata": {},
   "outputs": [
    {
     "name": "stdout",
     "output_type": "stream",
     "text": [
      "8 -> \n",
      "7 -> \n",
      "6 -> \n",
      "5 -> \n",
      "4 -> \n",
      "3 -> \n",
      "2 -> \n",
      "1 -> \n",
      "0 -> \n"
     ]
    }
   ],
   "source": [
    "while c.isEmpty() == False:\n",
    "    print(c.pop() + ' -> ')"
   ]
  },
  {
   "cell_type": "code",
   "execution_count": null,
   "metadata": {},
   "outputs": [],
   "source": []
  }
 ],
 "metadata": {
  "kernelspec": {
   "display_name": "Python 3",
   "language": "python",
   "name": "python3"
  },
  "language_info": {
   "codemirror_mode": {
    "name": "ipython",
    "version": 3
   },
   "file_extension": ".py",
   "mimetype": "text/x-python",
   "name": "python",
   "nbconvert_exporter": "python",
   "pygments_lexer": "ipython3",
   "version": "3.7.3"
  }
 },
 "nbformat": 4,
 "nbformat_minor": 2
}
