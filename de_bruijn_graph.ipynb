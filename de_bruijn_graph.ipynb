{
 "cells": [
  {
   "cell_type": "code",
   "execution_count": 3,
   "metadata": {},
   "outputs": [],
   "source": [
    "def read_genome(filename):\n",
    "    genome = ''\n",
    "    with open(filename, 'r') as f:\n",
    "        for line in f:\n",
    "            if not line[0] == '>':\n",
    "                genome += line\n",
    "    return (genome)"
   ]
  },
  {
   "cell_type": "code",
   "execution_count": 4,
   "metadata": {},
   "outputs": [],
   "source": [
    "edges_list = read_genome('dataset_203_2.txt').split('\\n')"
   ]
  },
  {
   "cell_type": "code",
   "execution_count": 6,
   "metadata": {},
   "outputs": [],
   "source": [
    "matches = []\n",
    "i = 0\n",
    "while i < len(edges_list):\n",
    "    #i = list(i.split(' -> '))\n",
    "    matches.append(edges_list[i].split(' -> '))\n",
    "    i += 1\n",
    "    #print(i)\n"
   ]
  },
  {
   "cell_type": "code",
   "execution_count": 7,
   "metadata": {},
   "outputs": [],
   "source": [
    "#print(matches)\n",
    "connections = []\n",
    "i = 0\n",
    "while i < len(edges_list) - 1:\n",
    "    #rint('a')\n",
    "    connections.append(matches[i][1])\n",
    "    i += 1\n",
    "#nodes = []\n",
    "#for i in matches:\n",
    "   # print(i[1])\n",
    " #   nodes.append(i[1])"
   ]
  },
  {
   "cell_type": "code",
   "execution_count": 28,
   "metadata": {},
   "outputs": [],
   "source": [
    "#print(connections)\n",
    "nodes = []\n",
    "i = 0\n",
    "while i < len(edges_list) - 1:\n",
    "    nodes.append(list(connections[i].split(',')))\n",
    "    i += 1\n",
    "#print(nodes)\n",
    "#for i in matches:\n",
    " #   new = list(i[1].split(','))\n",
    "    #nodes.append(i[1].split(','))"
   ]
  },
  {
   "cell_type": "code",
   "execution_count": 45,
   "metadata": {},
   "outputs": [],
   "source": [
    "nodes1 = []\n",
    "i = 0\n",
    "while i < len(edges_list) - 1:\n",
    "    nodes1.append(matches[i][0])\n",
    "    i += 1"
   ]
  },
  {
   "cell_type": "code",
   "execution_count": 110,
   "metadata": {},
   "outputs": [],
   "source": [
    "dictionary = {}\n",
    "i = 0\n",
    "while i < len(edges_list) - 1:\n",
    "   # print(edges_list[i])\n",
    "    dictionary[matches[i][0]] = nodes[i]\n",
    "    i += 1"
   ]
  },
  {
   "cell_type": "code",
   "execution_count": 18,
   "metadata": {},
   "outputs": [],
   "source": [
    "class Stack:\n",
    "     def __init__(self):\n",
    "         self.items = []\n",
    "\n",
    "     def isEmpty(self):\n",
    "         return self.items == []\n",
    "\n",
    "     def push(self, item):\n",
    "         self.items.append(item)\n",
    "\n",
    "     def pop(self):\n",
    "         return self.items.pop()\n",
    "\n",
    "     def peek(self):\n",
    "         return self.items[len(self.items)-1]\n",
    "\n",
    "     def size(self):\n",
    "         return len(self.items)"
   ]
  },
  {
   "cell_type": "code",
   "execution_count": 19,
   "metadata": {},
   "outputs": [],
   "source": [
    "c = Stack()"
   ]
  },
  {
   "cell_type": "code",
   "execution_count": 89,
   "metadata": {},
   "outputs": [],
   "source": [
    "def dictionary_update(dictionary, key):\n",
    "    del dictionary[key][0]\n",
    "    "
   ]
  },
  {
   "cell_type": "code",
   "execution_count": 154,
   "metadata": {},
   "outputs": [],
   "source": [
    "for i in nodes1:\n",
    "    c.push(i)\n",
    "    if i in dictionary and dictionary[i] != []:\n",
    "        j = 0\n",
    "        while (j < len(dictionary[i])):\n",
    "            c_next = dictionary[i][j]\n",
    "            c.push(c_next)\n",
    "            dictionary_update(dictionary, i)"
   ]
  },
  {
   "cell_type": "code",
   "execution_count": 156,
   "metadata": {},
   "outputs": [
    {
     "data": {
      "text/plain": [
       "173173"
      ]
     },
     "execution_count": 156,
     "metadata": {},
     "output_type": "execute_result"
    }
   ],
   "source": [
    "c.size()"
   ]
  }
 ],
 "metadata": {
  "kernelspec": {
   "display_name": "Python 3",
   "language": "python",
   "name": "python3"
  },
  "language_info": {
   "codemirror_mode": {
    "name": "ipython",
    "version": 3
   },
   "file_extension": ".py",
   "mimetype": "text/x-python",
   "name": "python",
   "nbconvert_exporter": "python",
   "pygments_lexer": "ipython3",
   "version": "3.7.3"
  }
 },
 "nbformat": 4,
 "nbformat_minor": 2
}
